{
 "cells": [
  {
   "cell_type": "code",
   "execution_count": null,
   "metadata": {},
   "outputs": [],
   "source": [
    "import numpy as np\n",
    "import matplotlib.pyplot as plt\n",
    "import matplotlib as mpl\n",
    "import seaborn as sns\n",
    "\n",
    "import scipy as scipy\n",
    "import scipy.signal\n",
    "from pathlib import Path\n",
    "\n",
    "from SyringePumpAux import *"
   ]
  },
  {
   "cell_type": "code",
   "execution_count": null,
   "metadata": {},
   "outputs": [],
   "source": [
    "#Global Viz settings\n",
    "sns.set_style('darkgrid') # darkgrid, white grid, dark, white and ticks\n",
    "plt.rc('axes', titlesize=18)     # fontsize of the axes title\n",
    "plt.rc('axes', labelsize=14)    # fontsize of the x and y labels\n",
    "plt.rc('xtick', labelsize=13)    # fontsize of the tick labels\n",
    "plt.rc('ytick', labelsize=13)    # fontsize of the tick labels\n",
    "plt.rc('legend', fontsize=13)    # legend fontsize\n",
    "plt.rc('font', size=13)          # controls default text sizes\n",
    "\n",
    "mpl.rcParams['pdf.fonttype'] = 42\n",
    "mpl.rcParams['ps.fonttype'] = 42\n",
    "mpl.rcParams['font.family'] = 'Arial'\n",
    "\n",
    "default_fig_size = (6,4)\n",
    "figureTargetFolder = Path(r\"C:\\Users\\bfpcr\\Documents\\device.pump\\Exp_Data&Code\\AnalysisCode\\Figures\")"
   ]
  },
  {
   "cell_type": "code",
   "execution_count": null,
   "metadata": {},
   "outputs": [],
   "source": [
    "dataRoot = Path(r\"C:\\Users\\bfpcr\\Downloads\\drive-download-20220211T161053Z-001\")\n",
    "#Downloadable from https://drive.google.com/drive/u/1/folders/119J9gjGana1xsALLQBQV9rI2lKPQoyFM\n",
    "\n",
    "ephysPath = \"pump1ephysData2021-02-27T17_29_06.bin\"\n",
    "analogPath = \"pump1AnalogData2021-02-27T17_29_06.bin\"\n",
    "\n",
    "Fs = 30e3\n",
    "\n",
    "stepTTL = np.fromfile(dataRoot / analogPath, dtype=np.int16).reshape((-1,8))[:,2]"
   ]
  },
  {
   "cell_type": "code",
   "execution_count": null,
   "metadata": {},
   "outputs": [],
   "source": [
    "fig,ax = plt.subplots(figsize = default_fig_size)\n",
    "plt.plot(stepTTL)\n",
    "plt.ylabel('TTL state') \n",
    "plt.xlabel('Time (samples)')\n",
    "plt.show()\n",
    "analogThr = -15e3\n",
    "stepTTL = (stepTTL > analogThr).astype(np.int8)\n",
    "print(analogThr)"
   ]
  },
  {
   "cell_type": "code",
   "execution_count": null,
   "metadata": {},
   "outputs": [],
   "source": [
    "\n",
    "pulseOnsets = np.argwhere((np.diff(stepTTL) == 1))\n",
    "trainOnsets = pulseOnsets[np.argwhere(np.diff(pulseOnsets, axis = 0) > 150)[:,0] + 1] #shift the index by 1 to account for the derivative indexing\n",
    "trainOnsets = np.insert(trainOnsets, 0, pulseOnsets[0], axis = 0) #prepend the first pulse\n",
    "fig,ax = plt.subplots(figsize = default_fig_size)\n",
    "plt.plot(stepTTL)\n",
    "plt.scatter(pulseOnsets, pulseOnsets * 0 + 0.5, c = 'red')\n",
    "plt.scatter(trainOnsets, trainOnsets * 0 + 0.6, c = 'green')\n",
    "plt.show()\n",
    "plt.xlim((0.278e6, 0.282e6))\n",
    "#plt.xlim((0.278e6, 0.2782e6))\n",
    "print(trainOnsets)"
   ]
  },
  {
   "cell_type": "code",
   "execution_count": null,
   "metadata": {},
   "outputs": [],
   "source": [
    "EphysData = np.fromfile((dataRoot / ephysPath), dtype=np.int16).reshape((-1,64))\n",
    "meanChannel = np.mean(EphysData, axis = 1)\n"
   ]
  },
  {
   "cell_type": "code",
   "execution_count": null,
   "metadata": {},
   "outputs": [],
   "source": [
    "\n",
    "WOI = np.array([-0.05,0.15])\n",
    "samples2take = [np.floor((x + WOI*Fs)).astype(int) for x in trainOnsets]\n",
    "ts = np.linspace(WOI[0], WOI[1], np.floor(samples2take[0][1] - samples2take[0][0]).astype(int))\n",
    "b,a = scipy.signal.butter(2, [300, 8000], btype = 'bandpass', fs = Fs)\n",
    "#b,a = scipy.signal.butter(2, 50, btype = 'highpass', fs = Fs)\n",
    "\n",
    "fig = plt.figure(figsize = (10,4))\n",
    "ax = fig.add_subplot(1,1,1)\n",
    "plotOffset = 500\n",
    "ch_plotOffset = 200\n",
    "\n",
    "channels2plot = [0,1,22]\n",
    "cY = 0\n",
    "colorArray = ['Purple', 'Green']\n",
    "for ii, channel_idx in enumerate(channels2plot):\n",
    "    channel2plot = EphysData[:,channel_idx] * 0.195 - 6389.76\n",
    "    channel2plot = scipy.signal.filtfilt(b,a,channel2plot)\n",
    "    for jTrain in range(0, trainOnsets.shape[0]):\n",
    "        cSamples = samples2take[jTrain]\n",
    "        plt.plot(ts, channel2plot[cSamples[0]: cSamples[1]] + plotOffset * cY + ch_plotOffset*ii, c = 'black', linewidth = 1)\n",
    "        cY+=1\n",
    "\n",
    "plt.plot(ts, stepTTL[cSamples[0]: cSamples[1]] * 400  + plotOffset * (cY) + ch_plotOffset, c = 'red')\n",
    "\n",
    "\n",
    "ax.set_xlabel = \"Time (s)\"\n",
    "ax.set_ylabel = \"ADC (V)\"\n",
    "\n",
    "right_side = ax.spines[\"right\"]\n",
    "right_side.set_visible(False)\n",
    "top_side = ax.spines[\"top\"]\n",
    "top_side.set_visible(False)\n",
    "top_side = ax.spines[\"left\"]\n",
    "top_side.set_visible(False)\n",
    "plt.yticks([], [])\n",
    "plt.xlim((-0.05, 0.15))\n",
    "plt.title('Ephys validation')\n",
    "saveFigure(fig, rootSaveFolder = figureTargetFolder)\n",
    "plt.show()\n"
   ]
  },
  {
   "cell_type": "code",
   "execution_count": null,
   "metadata": {},
   "outputs": [],
   "source": []
  },
  {
   "cell_type": "code",
   "execution_count": null,
   "metadata": {},
   "outputs": [],
   "source": [
    "WOI = np.array([-1,1])\n",
    "samples2take = [np.floor((x + WOI*Fs)).astype(int) for x in trainOnsets]\n",
    "\n",
    "plt.figure()\n",
    "for jTrain in range(0, trainOnsets.shape[0]):\n",
    "    cSamples = samples2take[jTrain]\n",
    "    plt.plot(meanChannel[cSamples[0]: cSamples[1]] + 3000 * jTrain, c = 'black')\n",
    "plt.show()\n",
    "    "
   ]
  },
  {
   "cell_type": "code",
   "execution_count": null,
   "metadata": {},
   "outputs": [],
   "source": []
  }
 ],
 "metadata": {
  "interpreter": {
   "hash": "1f3f2ba9b7860ef6429ae9ab2b967ba3b3cf19e133ad841d4b5fc0008d49defa"
  },
  "kernelspec": {
   "display_name": "Python 3.8.10 64-bit ('SyringePump': conda)",
   "name": "python3"
  },
  "language_info": {
   "codemirror_mode": {
    "name": "ipython",
    "version": 3
   },
   "file_extension": ".py",
   "mimetype": "text/x-python",
   "name": "python",
   "nbconvert_exporter": "python",
   "pygments_lexer": "ipython3",
   "version": "3.8.10"
  }
 },
 "nbformat": 4,
 "nbformat_minor": 4
}
