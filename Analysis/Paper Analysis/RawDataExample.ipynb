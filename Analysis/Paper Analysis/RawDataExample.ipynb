{
 "cells": [
  {
   "cell_type": "code",
   "execution_count": null,
   "metadata": {},
   "outputs": [],
   "source": [
    "from matplotlib import pyplot as plt\n",
    "import seaborn as sns\n",
    "import numpy as np\n",
    "%matplotlib inline\n",
    "import os\n",
    "from pathlib import Path\n",
    "import cv2 as cv\n",
    "import pandas as pd\n",
    "import matplotlib as mpl\n",
    "\n",
    "from SyringePumpAux import *\n"
   ]
  },
  {
   "cell_type": "code",
   "execution_count": null,
   "metadata": {},
   "outputs": [],
   "source": [
    "#Global Viz settings\n",
    "figureTargetFolder = Path(r\"C:\\Users\\bruno.cruz\\Downloads\\ExperimentalData\\Figures\")\n",
    "\n",
    "#Global Viz settings\n",
    "sns.set_context('paper') # darkgrid, white grid, dark, white and ticks\n",
    "plt.rc('axes', titlesize=18)     # fontsize of the axes title\n",
    "plt.rc('axes', labelsize=14)    # fontsize of the x and y labels\n",
    "plt.rc('xtick', labelsize=13)    # fontsize of the tick labels\n",
    "plt.rc('ytick', labelsize=13)    # fontsize of the tick labels\n",
    "plt.rc('legend', fontsize=13)    # legend fontsize\n",
    "plt.rc('font', size=13)          # controls default text sizes\n",
    "plt.rc(\"axes.spines\", top=False, right=False)\n",
    "\n",
    "mpl.rcParams['pdf.fonttype'] = 42\n",
    "mpl.rcParams['ps.fonttype'] = 42\n",
    "mpl.rcParams['font.family'] = 'Arial'\n",
    "\n",
    "default_fig_size = (6,4)\n"
   ]
  },
  {
   "cell_type": "code",
   "execution_count": null,
   "metadata": {},
   "outputs": [],
   "source": [
    "csvPath = Path(r\"C:\\Users\\bruno.cruz\\Downloads\\ExperimentalData\\DemoData\\6xcycles_60step_1_2x_Glass5mL_2021-08-19T11_51_19.csv\")\n",
    "rawData = pd.read_csv(csvPath, sep = \"\\t\")\n",
    "gpio = rawData.Item5 > np.mean(rawData.Item5)\n",
    "rawData  = rawData[\"Item2.MajorAxisLength\"].to_numpy()\n"
   ]
  },
  {
   "cell_type": "code",
   "execution_count": null,
   "metadata": {},
   "outputs": [],
   "source": [
    "Fs = 20 #frames per second\n",
    "all_gpio_pulses = np.where(np.diff(gpio.astype(int)) == 1)[0]\n",
    "firstPulse = all_gpio_pulses[0]\n",
    "x_time_axis = np.arange(0, rawData.shape[0]) / Fs #in seconds"
   ]
  },
  {
   "cell_type": "code",
   "execution_count": null,
   "metadata": {},
   "outputs": [],
   "source": [
    "fig,ax = plt.subplots(figsize = default_fig_size)\n",
    "plt.plot(x_time_axis, rawData, c = 'black', linewidth = 3)\n",
    "\n",
    "deltaY = [150, 50]\n",
    "for ii, value in enumerate(all_gpio_pulses):\n",
    "\n",
    "    plt.vlines(x_time_axis[all_gpio_pulses], rawData[all_gpio_pulses] - deltaY[0] , rawData[all_gpio_pulses] - deltaY[1])\n",
    "\n",
    "\n",
    "plt.xlim((40, 170))\n",
    "plt.ylim((0, 1100))\n",
    "\n",
    "\n",
    "ax.set_ylabel(\"Displaced Area (a.u.)\")\n",
    "ax.set_xlabel(\"Time (s)\")\n",
    "plt.title(\"raw trace\")\n",
    "saveFigure(fig, rootSaveFolder = figureTargetFolder)\n",
    "\n",
    "plt.show()\n"
   ]
  }
 ],
 "metadata": {
  "interpreter": {
   "hash": "c2d695f466dc689c0ebde8e647c48c1edc71dcaaaa9bab7715eede41b1a7a139"
  },
  "kernelspec": {
   "display_name": "Python 3",
   "language": "python",
   "name": "python3"
  },
  "language_info": {
   "codemirror_mode": {
    "name": "ipython",
    "version": 3
   },
   "file_extension": ".py",
   "mimetype": "text/x-python",
   "name": "python",
   "nbconvert_exporter": "python",
   "pygments_lexer": "ipython3",
   "version": "3.9.13"
  }
 },
 "nbformat": 4,
 "nbformat_minor": 2
}
