{
 "cells": [
  {
   "cell_type": "code",
   "execution_count": 245,
   "metadata": {},
   "outputs": [],
   "source": [
    "import pandas as pd\n",
    "import numpy as np\n",
    "import matplotlib.pyplot as plt\n",
    "import os.path\n",
    "import os\n",
    "import seaborn as sns\n",
    "from matplotlib.colors import LinearSegmentedColormap\n",
    "import matplotlib as mpl\n",
    "from pathlib import Path"
   ]
  },
  {
   "cell_type": "code",
   "execution_count": 246,
   "metadata": {},
   "outputs": [],
   "source": [
    "figureTargetFolder = Path(r\"C:\\Users\\neurogears\\Documents\\git\\CF_Hardware\\device.pump\\Exp_Data&Code\\AnalysisCode\\Figures\")\n",
    "\n",
    "#Global Viz settings\n",
    "sns.set_style('darkgrid') # darkgrid, white grid, dark, white and ticks\n",
    "plt.rc('axes', titlesize=18)     # fontsize of the axes title\n",
    "plt.rc('axes', labelsize=14)    # fontsize of the x and y labels\n",
    "plt.rc('xtick', labelsize=13)    # fontsize of the tick labels\n",
    "plt.rc('ytick', labelsize=13)    # fontsize of the tick labels\n",
    "plt.rc('legend', fontsize=13)    # legend fontsize\n",
    "plt.rc('font', size=13)          # controls default text sizes\n",
    "\n",
    "mpl.rcParams['pdf.fonttype'] = 42\n",
    "mpl.rcParams['ps.fonttype'] = 42\n",
    "mpl.rcParams['font.family'] = 'Arial'"
   ]
  },
  {
   "cell_type": "code",
   "execution_count": 247,
   "metadata": {},
   "outputs": [],
   "source": [
    "def compute_probability_matrix(df):\n",
    "    prot_values = np.sort(df.nprotocols_X.unique())\n",
    "    prot_values = [int(el) for el in prot_values]\n",
    "    prot_matrix = np.ndarray((len(prot_values), len(prot_values)))\n",
    "\n",
    "    for j in range(len(prot_values)): #notX\n",
    "        for i in range(len(prot_values)): #X\n",
    "            all_valid_choices = df.query(f'nprotocols_X == {prot_values[j]} and nprotocols_notX == {prot_values[i]} and trial_type == \"valid\"').reward_pump.values\n",
    "            count_X = list(all_valid_choices).count('X')\n",
    "            if len(all_valid_choices) > 0:\n",
    "                prob_X = count_X/len(all_valid_choices)\n",
    "            else:\n",
    "                prob_X = np.nan\n",
    "\n",
    "            prot_matrix[i,j] = prob_X\n",
    "\n",
    "    return prot_values, prot_matrix\n"
   ]
  },
  {
   "cell_type": "code",
   "execution_count": 248,
   "metadata": {},
   "outputs": [],
   "source": [
    "unibandits = pd.read_csv('../../ExperimentalData/Behavior/bhv_dataset.csv')\n",
    "\n",
    "animal_list = ['Aluminium', 'Silicon']"
   ]
  },
  {
   "cell_type": "code",
   "execution_count": 249,
   "metadata": {},
   "outputs": [],
   "source": [
    "probdf = pd.DataFrame.from_dict(unibandits.query('valid_trial == True and notlast15 == True').groupby(['animal', 'abs_log2_X_over_notX', 'valid_within_block']).groups.keys())\n",
    "probdf = probdf.rename(columns={0: 'animal', 1:\"abs_log2_X_over_notX\", 2:\"valid_within_block\"})\n",
    "\n",
    "probdf['high_chosen'] = probdf.apply(lambda x: unibandits.query(f'valid_trial == True and animal == \"{x.animal}\" and abs_log2_X_over_notX == {x.abs_log2_X_over_notX} and valid_within_block == {x.valid_within_block}').high_chosen.values, axis = 1)\n",
    "\n",
    "probdf['total_count'] = probdf.high_chosen.apply(lambda x: len(x))\n",
    "probdf['high_count'] = probdf.high_chosen.apply(lambda x: np.sum(x))\n",
    "\n",
    "probdf['probability_high'] = probdf.apply(lambda x: x.high_count / x.total_count, axis = 1)\n"
   ]
  },
  {
   "cell_type": "code",
   "execution_count": 250,
   "metadata": {},
   "outputs": [],
   "source": [
    "cdict1 = {'red':   ((0.0, 0.0, 0.0),\n",
    "                   (0.5, 0.0, 0.1),\n",
    "                   (1.0, 1.0, 1.0)),\n",
    "\n",
    "         'green': ((0.0, 0.0, 0.0),\n",
    "                   (1.0, 0.0, 0.0)),\n",
    "\n",
    "         'blue':  ((0.0, 0.0, 1.0),\n",
    "                   (0.5, 0.1, 0.0),\n",
    "                   (1.0, 0.0, 0.0))\n",
    "        }\n",
    "blue_red1 = LinearSegmentedColormap('BlueRed1', cdict1)\n",
    "\n",
    "fig, axs = plt.subplots(2,2, figsize = (10,8), tight_layout = True)\n",
    "\n",
    "for i in range(2):\n",
    "    prot_values, prot_matrix = compute_probability_matrix(unibandits.query(f'animal == \"{animal_list[i]}\"'))\n",
    "    sns.heatmap(ax = axs[0,i], data = prot_matrix, center = 0.5, cmap = blue_red1, vmin = 0, vmax = 1)\n",
    "    axs[0,i].set_xlabel('X')\n",
    "    axs[0,i].set_ylabel('notX')\n",
    "    axs[0,i].set_title(f'{animal_list[i]}')\n",
    "    axs[0,i].set_xticklabels(prot_values)\n",
    "    axs[0,i].set_yticklabels(prot_values)\n",
    "\n",
    "\n",
    "    sns.lineplot(ax = axs[1,i], data = probdf.query(f'animal == \"{animal_list[i]}\"'), x = 'valid_within_block', y = 'probability_high', hue = 'abs_log2_X_over_notX')\n",
    "    axs[1,i].set_ylabel('P (high)')\n",
    "    axs[1,i].set_xlabel('Trial since transition')\n",
    "    axs[1,i].set_xlim(0,30)\n",
    "    axs[1,i].set_ylim(0,1)\n",
    "    axs[1,i].set_yticks((0,0.5, 1))\n",
    "\n",
    "\n",
    "fig.savefig(figureTargetFolder / \"BehaviorAnalysis.pdf\")\n",
    "\n",
    "plt.show()"
   ]
  },
  {
   "attachments": {},
   "cell_type": "markdown",
   "metadata": {},
   "source": [
    "Example session, considering from the 2nd block onwards and only taking into account valid trials."
   ]
  },
  {
   "cell_type": "code",
   "execution_count": 251,
   "metadata": {},
   "outputs": [],
   "source": [
    "# example session\n",
    "sessdf = unibandits.query(f'animal == \"Aluminium\" and date == 220603 and trial_type == \"valid\"')\n",
    "\n",
    "sessdf['Xcount_previous_15_choices'] = np.nan\n",
    "\n",
    "for ii in range(15, len(sessdf.index)-1):\n",
    "    sessdf.loc[sessdf.index[ii], 'Xcount_previous_15_choices'] = list(sessdf.loc[sessdf.index[ii-15:ii], 'reward_pump'].values).count('X')\n",
    "\n",
    "sessdf['probX_last15'] = sessdf.Xcount_previous_15_choices.apply(lambda x: x/15).astype(float)\n",
    "\n",
    "egdf = sessdf.query('blockno > 1')\n",
    "egdf['choice'] = egdf.probX_last15.apply(lambda x: (x-.5)*8)\n",
    "\n",
    "#in this particular session there was a block transition in an aborted trial, so we plot the block change in the first valid trial \n",
    "invalid_index = unibandits.query('animal == \"Aluminium\" and date == 220603 and block_changed == True and trial_type != \"valid\"').index\n",
    "egdf.loc[egdf.index[np.where(egdf.index > invalid_index[0])[0][0]], 'block_changed'] = True\n",
    "\n",
    "egdf['rectangle_limit'] = egdf.log2_X_over_notX.apply(lambda x: x/8+.5)\n",
    "\n",
    "#re-index the trial number, so that y axis is count of valid trials\n",
    "egdf['trialno'] = egdf.reset_index().index"
   ]
  },
  {
   "cell_type": "code",
   "execution_count": 254,
   "metadata": {},
   "outputs": [],
   "source": [
    "fig, axs = plt.subplots(3, tight_layout = True, gridspec_kw={'height_ratios': [1,6,1], 'hspace':0}, sharex = True, figsize = (8,4))\n",
    "\n",
    "#block structure\n",
    "for block in egdf.blockno.unique():\n",
    "    height = egdf.query(f'blockno == {block}').rectangle_limit.unique()[0]\n",
    "    start = int(egdf.query(f'blockno == {block}').trialno.values[0])\n",
    "    end = int(egdf.query(f'blockno == {block}').trialno.values[-1])\n",
    "\n",
    "    rectangle = mpl.patches.Rectangle((start, 0.5), end-start+1, height - 0.5, alpha = 0.5, facecolor = blue_red1(float(round(height))))\n",
    "    axs[1].add_patch(rectangle)\n",
    "\n",
    "    if start > 0:\n",
    "        [axs[ii].axvline(start, color = 'grey', ls = 'dashed', lw = 1) for ii in range(3)]\n",
    "\n",
    "# choices - raster plots\n",
    "trials_X = egdf.query('reward_pump == \"X\"').trialno.unique()\n",
    "trials_notX = egdf.query('reward_pump == \"notX\"').trialno.unique()\n",
    "\n",
    "sns.scatterplot(ax = axs[0], x = trials_X, y = np.ones(len(trials_X)), marker = '|', color = 'black', s = 150, linewidth = .4)\n",
    "sns.scatterplot(ax = axs[2], x = trials_notX, y = np.ones(len(trials_notX)), marker = '|', color = 'black', s = 150, linewidth = 0.4)\n",
    "\n",
    "# running average fir choice in the last 15 trials\n",
    "sns.lineplot(ax = axs[1], data = egdf, x = 'trialno', y = 'probX_last15', color = 'black', label = 'choice', lw = 1)\n",
    "\n",
    "axs[2].set_xlabel('Trials')\n",
    "axs[1].set_ylabel('P(X)')\n",
    "axs[1].set_xlim(egdf.trialno.values[0], egdf.trialno.values[-1])\n",
    "axs[1].set_ylim(-0.01,1)\n",
    "\n",
    "axs[0].set_ylabel('X', rotation = 0)\n",
    "axs[2].set_ylabel('notX', rotation = 0)\n",
    "\n",
    "[axs[ii].yaxis.set_label_coords(-0.03,0.2) for ii in [0,2]]\n",
    "[axs[ii].set_yticks([]) for ii in [0,2]]\n",
    "axs[1].set_yticks([0,0.5,1])\n",
    "\n",
    "axs[1].get_legend().remove()\n",
    "\n",
    "sns.despine(fig = fig, top = True, bottom = True, right = True, left = True)\n",
    "\n",
    "fig.savefig(figureTargetFolder / \"BehaviorExampleSession.pdf\")\n",
    "\n",
    "plt.show()"
   ]
  }
 ],
 "metadata": {
  "kernelspec": {
   "display_name": "Python 3.8.5 ('rat-analysis')",
   "language": "python",
   "name": "python3"
  },
  "language_info": {
   "codemirror_mode": {
    "name": "ipython",
    "version": 3
   },
   "file_extension": ".py",
   "mimetype": "text/x-python",
   "name": "python",
   "nbconvert_exporter": "python",
   "pygments_lexer": "ipython3",
   "version": "3.8.13"
  },
  "orig_nbformat": 4,
  "vscode": {
   "interpreter": {
    "hash": "aa742f7d05a9b1e36b4ccffe38f7d4e0eb82d2b52b6ca9527111b192e9100942"
   }
  }
 },
 "nbformat": 4,
 "nbformat_minor": 2
}
