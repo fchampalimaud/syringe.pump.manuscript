{
 "cells": [
  {
   "cell_type": "code",
   "execution_count": null,
   "metadata": {},
   "outputs": [],
   "source": [
    "import pandas as pd\n",
    "import numpy as np\n",
    "import matplotlib.pyplot as plt\n",
    "import os.path\n",
    "import os\n",
    "import seaborn as sns\n",
    "from matplotlib.colors import LinearSegmentedColormap\n",
    "import matplotlib as mpl\n",
    "from pathlib import Path\n",
    "import warnings\n",
    "warnings.filterwarnings('ignore')"
   ]
  },
  {
   "cell_type": "code",
   "execution_count": null,
   "metadata": {},
   "outputs": [],
   "source": [
    "#figureTargetFolder = Path(r\"C:\\Users\\neurogears\\Documents\\git\\CF_Hardware\\device.pump\\Exp_Data&Code\\AnalysisCode\\Figures\")\n",
    "figureTargetFolder = Path(r\"C:\\Users\\bruno.cruz\\Downloads\\ExperimentalData\\Figures\")\n",
    "dataFolder = Path(r\"C:\\Users\\bruno.cruz\\Downloads\\ExperimentalData\\FlowData\")\n",
    "\n",
    "#Global Viz settings\n",
    "sns.set_context('paper') # darkgrid, white grid, dark, white and ticks\n",
    "plt.rc('axes', titlesize=18)     # fontsize of the axes title\n",
    "plt.rc('axes', labelsize=14)    # fontsize of the x and y labels\n",
    "plt.rc('xtick', labelsize=13)    # fontsize of the tick labels\n",
    "plt.rc('ytick', labelsize=13)    # fontsize of the tick labels\n",
    "plt.rc('legend', fontsize=13)    # legend fontsize\n",
    "plt.rc('font', size=13)          # controls default text sizes\n",
    "plt.rc(\"axes.spines\", top=False, right=False)"
   ]
  },
  {
   "cell_type": "code",
   "execution_count": null,
   "metadata": {},
   "outputs": [],
   "source": [
    "def compute_probability_matrix(df):\n",
    "    prot_values = np.sort(df.nprotocols_X.unique())\n",
    "    prot_values = [int(el) for el in prot_values]\n",
    "    prot_matrix = np.ndarray((len(prot_values), len(prot_values)))\n",
    "\n",
    "    for j in range(len(prot_values)): #notX\n",
    "        for i in range(len(prot_values)): #X\n",
    "            all_valid_choices = df.query(f'nprotocols_X == {prot_values[j]} and nprotocols_notX == {prot_values[i]} and trial_type == \"valid\"').reward_pump.values\n",
    "            count_X = list(all_valid_choices).count('X')\n",
    "            if len(all_valid_choices) > 0:\n",
    "                prob_X = count_X/len(all_valid_choices)\n",
    "            else:\n",
    "                prob_X = np.nan\n",
    "\n",
    "            prot_matrix[i,j] = prob_X\n",
    "\n",
    "    return prot_values, prot_matrix\n"
   ]
  },
  {
   "attachments": {},
   "cell_type": "markdown",
   "metadata": {},
   "source": [
    "# Import dataset\n",
    "\n",
    "Here's a brief overview of the dataframe structure and nomenclature used.\n",
    "\n",
    "We define a session by the `animal` and `date`.\n",
    "\n",
    "Each session is divided in trials, each with a unique `trialno`. Trials are further characterised by `trial_start`, `trial_end` and `trial_duration`. All temporal events are in ms.\n",
    "\n",
    "There are 2 possible `trial_type`:\n",
    "* `valid` if the animal pokes in the initiation poke and holds fixation (100 ms). Valid trials are identified by the boolean `valid_trial`\n",
    "* `aborted` if the animal pokes in the initiation poke but pokes out before the fixation period elapses\n",
    "\n",
    "`blockno` counts the current block number and resets with each session. We will flag block transitions by the boolean `block_changed`.\n",
    "\n",
    "Reward amounts are listed under `nprotocols_X` and `nprotocols_notX`, as the number of protocols delivered by each syringe pump.\n",
    "\n",
    "Poke related events follow the nomenclature `[poke_name]_[in_or_out]` and refer to when the animal enters or exits a given poke. Times are relative to trial start.\n",
    "\n",
    "Animals start the trial by poking in the `initiation_poke` (C1 or C2), which is determined experimentally and used as a cue to indicate block change, and then decide to collect reward from the `reward_pump` (X or notX)."
   ]
  },
  {
   "cell_type": "code",
   "execution_count": null,
   "metadata": {},
   "outputs": [],
   "source": [
    "bhvdf = pd.read_pickle(r'C:\\Users\\bruno.cruz\\Downloads\\ExperimentalData\\Behavior\\bhv_dataset.pkl')\n",
    "animal_list = ['Aluminium', 'Silicon']"
   ]
  },
  {
   "attachments": {},
   "cell_type": "markdown",
   "metadata": {},
   "source": [
    "This dataset had very little data treatment. Let us create some aditional columns useful later on.\n",
    "\n",
    "We quantification of relative reward between syringe pumps as the ratio and log ratio between the number of protocols on each pump:\n",
    "* `X_over_notX`: number of protocols delivered by pump X divided by those delivered by pump notX in a particular block\n",
    "* `log2_X_over_notX`: the base 2 logarithm of the quantity above\n",
    "* `abs_log2_X_over_notX`: the absolute value of the quantitity above; only accounts for difference across reward amounts irrespective of which pump was delivering the highest amount of water\n",
    "\n",
    "And some counters and booleans:\n",
    "* `highest_pump` identifies the pump with the highest reward\n",
    "* `high_chosen` flags choices to the pump with the highest reward amount\n",
    "* `valid_within_block` counts the number of valid trials in a given block\n",
    "* `high_within_block` counts the number of choices to the highest rewarding pump\n",
    "* `total_valid_trials_in_block` sums the total number of valid trials in a given block\n",
    "* `last15_in_block` identifies (as True) the last 15 trials in the block"
   ]
  },
  {
   "cell_type": "code",
   "execution_count": null,
   "metadata": {},
   "outputs": [],
   "source": [
    "bhvdf['X_over_notX'] = bhvdf.apply(lambda x: x.nprotocols_X / x.nprotocols_notX, axis = 1)\n",
    "bhvdf['log2_X_over_notX'] = bhvdf.X_over_notX.apply(lambda x: np.log2(x))\n",
    "bhvdf['abs_log2_X_over_notX'] = bhvdf['log2_X_over_notX'].apply(lambda x: np.abs(x))\n",
    "\n",
    "bhvdf['block_changed'] = bhvdf.blockno.shift(1) != bhvdf.blockno\n",
    "bhvdf['valid_trial'] = bhvdf.trial_type.apply(lambda x: True if x == 'valid' else False)\n",
    "bhvdf['highest_pump'] = bhvdf.X_over_notX.apply(lambda x: 'X' if x > 1 else 'notX')\n",
    "bhvdf['high_chosen'] = bhvdf.apply(lambda x: True if x.reward_pump == x.highest_pump else False, axis = 1)\n",
    "\n",
    "bhvdf['valid_within_block'] = bhvdf.groupby(['animal', 'date', 'blockno']).valid_trial.transform(lambda x: np.cumsum(x))\n",
    "bhvdf['high_within_block'] = bhvdf.groupby(['animal', 'date', 'blockno']).high_chosen.transform(lambda x: np.cumsum(x))\n",
    "\n",
    "bhvdf['total_valid_trials_in_block'] = bhvdf.groupby(['animal', 'date', 'blockno']).valid_within_block.transform(lambda x: np.max(x))\n",
    "\n",
    "bhvdf['last15_in_block'] = bhvdf.apply(lambda x: x.valid_within_block >= x.total_valid_trials_in_block - 15, axis = 1)"
   ]
  },
  {
   "attachments": {},
   "cell_type": "markdown",
   "metadata": {},
   "source": [
    "# Choices as a function of reward amounts\n",
    "\n",
    "For the following analysis, we don't consider the last 15 trials in the block. Those trials reflect, in principle, a point in which the animal has converged to the highest rewarded pump -- and so counting them in would only tip the scales towards the \"correct\" direction. \n",
    "\n",
    "Note that, despite infrequent, it is possible that the animal doesn't converge to the highest side in a given block. In that case the block ends (max block length is 100 valid trials). We also don't consider the last 15 trials of the blocks in that situation. Example of that situation in the last figure, 4th block depicted."
   ]
  },
  {
   "cell_type": "code",
   "execution_count": null,
   "metadata": {},
   "outputs": [],
   "source": [
    "probdf = pd.DataFrame.from_dict(bhvdf.query('valid_trial == True and last15_in_block == False').groupby(['animal', 'abs_log2_X_over_notX', 'valid_within_block']).groups.keys())\n",
    "probdf = probdf.rename(columns={0: 'animal', 1:\"abs_log2_X_over_notX\", 2:\"valid_within_block\"})\n",
    "\n",
    "probdf['high_chosen'] = probdf.apply(lambda x: bhvdf.query(f'valid_trial == True and animal == \"{x.animal}\" and abs_log2_X_over_notX == {x.abs_log2_X_over_notX} and valid_within_block == {x.valid_within_block}').high_chosen.values, axis = 1)\n",
    "\n",
    "probdf['total_count'] = probdf.high_chosen.apply(lambda x: len(x))\n",
    "probdf['high_count'] = probdf.high_chosen.apply(lambda x: np.sum(x))\n",
    "\n",
    "probdf['probability_high'] = probdf.apply(lambda x: x.high_count / x.total_count, axis = 1)\n"
   ]
  },
  {
   "cell_type": "code",
   "execution_count": null,
   "metadata": {},
   "outputs": [],
   "source": [
    "cdict1 = {'red':  ((0.0, 0.0, 0.0),\n",
    "                   (0.5, 0.0, 0.1),\n",
    "                   (1.0, 1.0, 1.0)),\n",
    "\n",
    "         'green': ((0.0, 0.0, 0.0),\n",
    "                   (1.0, 0.0, 0.0)),\n",
    "\n",
    "         'blue':  ((0.0, 0.0, 1.0),\n",
    "                   (0.5, 0.1, 0.0),\n",
    "                   (1.0, 0.0, 0.0))\n",
    "        }\n",
    "blue_red1 = LinearSegmentedColormap('BlueRed1', cdict1)\n",
    "\n",
    "fig, axs = plt.subplots(2,2, figsize = (10,8), tight_layout = True)\n",
    "\n",
    "for i in range(2):\n",
    "    prot_values, prot_matrix = compute_probability_matrix(bhvdf.query(f'animal == \"{animal_list[i]}\"'))\n",
    "    sns.heatmap(ax = axs[0,i], data = prot_matrix, center = 0.5, cmap = blue_red1, vmin = 0, vmax = 1)\n",
    "    axs[0,i].set_xlabel('X')\n",
    "    axs[0,i].set_ylabel('notX')\n",
    "    axs[0,i].set_title(f'{animal_list[i]}')\n",
    "    axs[0,i].set_xticklabels(prot_values)\n",
    "    axs[0,i].set_yticklabels(prot_values)\n",
    "\n",
    "\n",
    "    sns.lineplot(ax = axs[1,i], data = probdf.query(f'animal == \"{animal_list[i]}\"'), x = 'valid_within_block', y = 'probability_high', hue = 'abs_log2_X_over_notX')\n",
    "    axs[1,i].set_ylabel('P (high)')\n",
    "    axs[1,i].set_xlabel('Trial since transition')\n",
    "    axs[1,i].set_xlim(0,30)\n",
    "    axs[1,i].set_ylim(0,1)\n",
    "    axs[1,i].set_yticks((0,0.5, 1))\n",
    "\n",
    "\n",
    "#fig.savefig(figureTargetFolder / \"BehaviorAnalysis.pdf\")\n",
    "\n",
    "plt.show()"
   ]
  },
  {
   "attachments": {},
   "cell_type": "markdown",
   "metadata": {},
   "source": [
    "## Example session\n",
    "\n",
    "\n",
    "We consider data from the 2nd block onwards and only take into account valid trials."
   ]
  },
  {
   "cell_type": "code",
   "execution_count": null,
   "metadata": {},
   "outputs": [],
   "source": [
    "# example session\n",
    "sessdf = bhvdf.query(f'animal == \"Aluminium\" and date == \"220603\" and trial_type == \"valid\"')\n",
    "\n",
    "sessdf['Xcount_previous_15_choices'] = np.nan\n",
    "\n",
    "for ii in range(15, len(sessdf.index)-1):\n",
    "    sessdf.loc[sessdf.index[ii], 'Xcount_previous_15_choices'] = list(sessdf.loc[sessdf.index[ii-15:ii], 'reward_pump'].values).count('X')\n",
    "\n",
    "sessdf['probX_last15'] = sessdf.Xcount_previous_15_choices.apply(lambda x: x/15).astype(float)\n",
    "\n",
    "egdf = sessdf.query('blockno > 1')\n",
    "egdf['choice'] = egdf.probX_last15.apply(lambda x: (x-.5)*8)\n",
    "\n",
    "#in this particular session there was a block transition in an aborted trial, so we plot the block change in the first valid trial \n",
    "invalid_index = bhvdf.query('animal == \"Aluminium\" and date == \"220603\" and block_changed == True and trial_type != \"valid\"').index\n",
    "egdf.loc[egdf.index[np.where(egdf.index > invalid_index[0])[0][0]], 'block_changed'] = True\n",
    "\n",
    "egdf['rectangle_limit'] = egdf.log2_X_over_notX.apply(lambda x: x/8+.5)\n",
    "\n",
    "#re-index the trial number, so that y axis is count of valid trials\n",
    "egdf['trialno'] = egdf.reset_index().index"
   ]
  },
  {
   "cell_type": "code",
   "execution_count": null,
   "metadata": {},
   "outputs": [],
   "source": [
    "fig, axs = plt.subplots(3, tight_layout = True, gridspec_kw={'height_ratios': [1,6,1], 'hspace':0}, sharex = True, figsize = (8,4))\n",
    "\n",
    "#block structure\n",
    "for block in egdf.blockno.unique():\n",
    "    height = egdf.query(f'blockno == {block}').rectangle_limit.unique()[0]\n",
    "    start = int(egdf.query(f'blockno == {block}').trialno.values[0])\n",
    "    end = int(egdf.query(f'blockno == {block}').trialno.values[-1])\n",
    "\n",
    "    rectangle = mpl.patches.Rectangle((start, 0.5), end-start+1, height - 0.5, alpha = 0.5, facecolor = blue_red1(float(round(height))))\n",
    "    axs[1].add_patch(rectangle)\n",
    "\n",
    "    if start > 0:\n",
    "        [axs[ii].axvline(start, color = 'grey', ls = 'dashed', lw = 1) for ii in range(3)]\n",
    "\n",
    "# choices - raster plots\n",
    "trials_X = egdf.query('reward_pump == \"X\"').trialno.unique()\n",
    "trials_notX = egdf.query('reward_pump == \"notX\"').trialno.unique()\n",
    "\n",
    "sns.scatterplot(ax = axs[0], x = trials_X, y = np.ones(len(trials_X)), marker = '|', color = 'black', s = 150, linewidth = .4)\n",
    "sns.scatterplot(ax = axs[2], x = trials_notX, y = np.ones(len(trials_notX)), marker = '|', color = 'black', s = 150, linewidth = 0.4)\n",
    "\n",
    "# running average fir choice in the last 15 trials\n",
    "sns.lineplot(ax = axs[1], data = egdf, x = 'trialno', y = 'probX_last15', color = 'black', label = 'choice', lw = 1)\n",
    "\n",
    "axs[2].set_xlabel('Trials')\n",
    "axs[1].set_ylabel('P(X)')\n",
    "axs[1].set_xlim(egdf.trialno.values[0], egdf.trialno.values[-1])\n",
    "axs[1].set_ylim(-0.01,1)\n",
    "\n",
    "axs[0].set_ylabel('X', rotation = 0)\n",
    "axs[2].set_ylabel('notX', rotation = 0)\n",
    "\n",
    "[axs[ii].yaxis.set_label_coords(-0.03,0.2) for ii in [0,2]]\n",
    "[axs[ii].set_yticks([]) for ii in [0,2]]\n",
    "axs[1].set_yticks([0,0.5,1])\n",
    "\n",
    "axs[1].get_legend().remove()\n",
    "\n",
    "sns.despine(fig = fig, top = True, bottom = True, right = True, left = True)\n",
    "\n",
    "#fig.savefig(figureTargetFolder / \"BehaviorExampleSession.pdf\")\n",
    "\n",
    "plt.show()"
   ]
  }
 ],
 "metadata": {
  "kernelspec": {
   "display_name": "Python 3.8.5 ('rat-analysis')",
   "language": "python",
   "name": "python3"
  },
  "language_info": {
   "codemirror_mode": {
    "name": "ipython",
    "version": 3
   },
   "file_extension": ".py",
   "mimetype": "text/x-python",
   "name": "python",
   "nbconvert_exporter": "python",
   "pygments_lexer": "ipython3",
   "version": "3.9.13"
  },
  "orig_nbformat": 4,
  "vscode": {
   "interpreter": {
    "hash": "aa742f7d05a9b1e36b4ccffe38f7d4e0eb82d2b52b6ca9527111b192e9100942"
   }
  }
 },
 "nbformat": 4,
 "nbformat_minor": 2
}
